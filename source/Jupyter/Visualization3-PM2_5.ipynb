{
 "cells": [
  {
   "cell_type": "code",
   "execution_count": 109,
   "id": "b78ea5cd",
   "metadata": {
    "ExecuteTime": {
     "end_time": "2023-06-11T13:28:15.959889Z",
     "start_time": "2023-06-11T13:28:15.949097Z"
    }
   },
   "outputs": [],
   "source": [
    "import os\n",
    "import pandas as pd\n",
    "import seaborn as sns\n",
    "import matplotlib.pyplot as plt\n",
    "plt.rcParams['font.sans-serif'] = ['SimHei'] # 显示中文\n",
    "plt.rcParams['axes.unicode_minus'] = False # 显示负号"
   ]
  },
  {
   "cell_type": "code",
   "execution_count": 110,
   "id": "cee5d360",
   "metadata": {
    "ExecuteTime": {
     "end_time": "2023-06-11T13:28:16.328988Z",
     "start_time": "2023-06-11T13:28:16.298331Z"
    },
    "scrolled": true
   },
   "outputs": [
    {
     "data": {
      "text/html": [
       "<div>\n",
       "<style scoped>\n",
       "    .dataframe tbody tr th:only-of-type {\n",
       "        vertical-align: middle;\n",
       "    }\n",
       "\n",
       "    .dataframe tbody tr th {\n",
       "        vertical-align: top;\n",
       "    }\n",
       "\n",
       "    .dataframe thead th {\n",
       "        text-align: right;\n",
       "    }\n",
       "</style>\n",
       "<table border=\"1\" class=\"dataframe\">\n",
       "  <thead>\n",
       "    <tr style=\"text-align: right;\">\n",
       "      <th></th>\n",
       "      <th>IAQI</th>\n",
       "      <th>COUNT</th>\n",
       "    </tr>\n",
       "  </thead>\n",
       "  <tbody>\n",
       "    <tr>\n",
       "      <th>0</th>\n",
       "      <td>0</td>\n",
       "      <td>243</td>\n",
       "    </tr>\n",
       "    <tr>\n",
       "      <th>1</th>\n",
       "      <td>50</td>\n",
       "      <td>14973</td>\n",
       "    </tr>\n",
       "    <tr>\n",
       "      <th>2</th>\n",
       "      <td>100</td>\n",
       "      <td>3886</td>\n",
       "    </tr>\n",
       "    <tr>\n",
       "      <th>3</th>\n",
       "      <td>150</td>\n",
       "      <td>292</td>\n",
       "    </tr>\n",
       "    <tr>\n",
       "      <th>4</th>\n",
       "      <td>200</td>\n",
       "      <td>36</td>\n",
       "    </tr>\n",
       "    <tr>\n",
       "      <th>5</th>\n",
       "      <td>300</td>\n",
       "      <td>2</td>\n",
       "    </tr>\n",
       "    <tr>\n",
       "      <th>6</th>\n",
       "      <td>400</td>\n",
       "      <td>0</td>\n",
       "    </tr>\n",
       "    <tr>\n",
       "      <th>7</th>\n",
       "      <td>500</td>\n",
       "      <td>0</td>\n",
       "    </tr>\n",
       "  </tbody>\n",
       "</table>\n",
       "</div>"
      ],
      "text/plain": [
       "   IAQI  COUNT\n",
       "0     0    243\n",
       "1    50  14973\n",
       "2   100   3886\n",
       "3   150    292\n",
       "4   200     36\n",
       "5   300      2\n",
       "6   400      0\n",
       "7   500      0"
      ]
     },
     "execution_count": 110,
     "metadata": {},
     "output_type": "execute_result"
    }
   ],
   "source": [
    "# 读取PM2.5在各IAQI区间的时间段数\n",
    "data_dir=r'E:\\Projects\\OneDrive - somebottle\\文档Documents\\大数据分析Spark\\期末大作业\\analyses\\pm25_iaqi_count'\n",
    "# 筛选出所有CSV文件\n",
    "csv_files = [f for f in os.listdir(data_dir) if f.endswith('.csv')]\n",
    "df=None\n",
    "for i in csv_files:\n",
    "    path=os.path.join(data_dir,i)\n",
    "    df_rd=pd.read_csv(path)\n",
    "    if df is None:\n",
    "        df=df_rd\n",
    "    else:\n",
    "        df=pd.concat([df,df_rd])\n",
    "df.reset_index(drop=True,inplace=True) # 重置索引\n",
    "df"
   ]
  },
  {
   "cell_type": "code",
   "execution_count": 147,
   "id": "e74c45c8",
   "metadata": {
    "ExecuteTime": {
     "end_time": "2023-06-11T13:52:05.006403Z",
     "start_time": "2023-06-11T13:52:04.961049Z"
    }
   },
   "outputs": [],
   "source": [
    "# 计算每个 IAQI 区间中COUNT所占总数的比例\n",
    "total_count = df['COUNT'].sum()\n",
    "df['RATIO'] = df['COUNT'] / total_count\n",
    "df['PERCENTAGE'] = (df['RATIO']*100).map('{:.2f}%'.format)"
   ]
  },
  {
   "cell_type": "code",
   "execution_count": 148,
   "id": "c1e487c8",
   "metadata": {
    "ExecuteTime": {
     "end_time": "2023-06-11T13:52:12.824434Z",
     "start_time": "2023-06-11T13:52:12.805484Z"
    }
   },
   "outputs": [
    {
     "name": "stderr",
     "output_type": "stream",
     "text": [
      "C:\\Users\\58379\\AppData\\Local\\Temp\\ipykernel_21648\\3468949233.py:3: SettingWithCopyWarning: \n",
      "A value is trying to be set on a copy of a slice from a DataFrame\n",
      "\n",
      "See the caveats in the documentation: https://pandas.pydata.org/pandas-docs/stable/user_guide/indexing.html#returning-a-view-versus-a-copy\n",
      "  df_filtered.sort_values(by='COUNT',ascending=True,inplace=True)\n"
     ]
    }
   ],
   "source": [
    "df_filtered=df[df['COUNT']>0] # 过滤掉空值行\n",
    "# 按照计数列升序排序，这是为了后面绘图时的explode处理\n",
    "df_filtered.sort_values(by='COUNT',ascending=True,inplace=True)"
   ]
  },
  {
   "cell_type": "code",
   "execution_count": 113,
   "id": "a17ebcf0",
   "metadata": {
    "ExecuteTime": {
     "end_time": "2023-06-11T13:28:58.768157Z",
     "start_time": "2023-06-11T13:28:58.755984Z"
    }
   },
   "outputs": [
    {
     "data": {
      "text/html": [
       "<div>\n",
       "<style scoped>\n",
       "    .dataframe tbody tr th:only-of-type {\n",
       "        vertical-align: middle;\n",
       "    }\n",
       "\n",
       "    .dataframe tbody tr th {\n",
       "        vertical-align: top;\n",
       "    }\n",
       "\n",
       "    .dataframe thead th {\n",
       "        text-align: right;\n",
       "    }\n",
       "</style>\n",
       "<table border=\"1\" class=\"dataframe\">\n",
       "  <thead>\n",
       "    <tr style=\"text-align: right;\">\n",
       "      <th></th>\n",
       "      <th>IAQI</th>\n",
       "      <th>COUNT</th>\n",
       "      <th>RATIO</th>\n",
       "      <th>PERCENTAGE</th>\n",
       "    </tr>\n",
       "  </thead>\n",
       "  <tbody>\n",
       "    <tr>\n",
       "      <th>5</th>\n",
       "      <td>300</td>\n",
       "      <td>2</td>\n",
       "      <td>0.000103</td>\n",
       "      <td>0.01%</td>\n",
       "    </tr>\n",
       "    <tr>\n",
       "      <th>4</th>\n",
       "      <td>200</td>\n",
       "      <td>36</td>\n",
       "      <td>0.001853</td>\n",
       "      <td>0.19%</td>\n",
       "    </tr>\n",
       "    <tr>\n",
       "      <th>0</th>\n",
       "      <td>0</td>\n",
       "      <td>243</td>\n",
       "      <td>0.012505</td>\n",
       "      <td>1.25%</td>\n",
       "    </tr>\n",
       "    <tr>\n",
       "      <th>3</th>\n",
       "      <td>150</td>\n",
       "      <td>292</td>\n",
       "      <td>0.015027</td>\n",
       "      <td>1.50%</td>\n",
       "    </tr>\n",
       "    <tr>\n",
       "      <th>2</th>\n",
       "      <td>100</td>\n",
       "      <td>3886</td>\n",
       "      <td>0.199979</td>\n",
       "      <td>20.00%</td>\n",
       "    </tr>\n",
       "    <tr>\n",
       "      <th>1</th>\n",
       "      <td>50</td>\n",
       "      <td>14973</td>\n",
       "      <td>0.770533</td>\n",
       "      <td>77.05%</td>\n",
       "    </tr>\n",
       "  </tbody>\n",
       "</table>\n",
       "</div>"
      ],
      "text/plain": [
       "   IAQI  COUNT     RATIO PERCENTAGE\n",
       "5   300      2  0.000103      0.01%\n",
       "4   200     36  0.001853      0.19%\n",
       "0     0    243  0.012505      1.25%\n",
       "3   150    292  0.015027      1.50%\n",
       "2   100   3886  0.199979     20.00%\n",
       "1    50  14973  0.770533     77.05%"
      ]
     },
     "execution_count": 113,
     "metadata": {},
     "output_type": "execute_result"
    }
   ],
   "source": [
    "df_filtered"
   ]
  },
  {
   "cell_type": "code",
   "execution_count": 145,
   "id": "2c131ac3",
   "metadata": {
    "ExecuteTime": {
     "end_time": "2023-06-11T13:44:31.075987Z",
     "start_time": "2023-06-11T13:44:31.066456Z"
    }
   },
   "outputs": [
    {
     "data": {
      "text/plain": [
       "[1.2, 1.0, 0.8, 0.6, 0.4, 0.2]"
      ]
     },
     "execution_count": 145,
     "metadata": {},
     "output_type": "execute_result"
    }
   ],
   "source": [
    "explode=list(\n",
    "    map(\n",
    "        lambda x:x/10,\n",
    "        list(range(df_filtered.shape[0]*2,0,-2))\n",
    "    )\n",
    ")\n",
    "explode"
   ]
  },
  {
   "cell_type": "code",
   "execution_count": 146,
   "id": "9e6b25b0",
   "metadata": {
    "ExecuteTime": {
     "end_time": "2023-06-11T13:44:37.132209Z",
     "start_time": "2023-06-11T13:44:36.934738Z"
    }
   },
   "outputs": [
    {
     "data": {
      "image/png": "[encoded data removed]",
      "text/plain": [
       "<Figure size 640x480 with 1 Axes>"
      ]
     },
     "metadata": {},
     "output_type": "display_data"
    }
   ],
   "source": [
    "plt.pie(\n",
    "    df_filtered['RATIO'],\n",
    "    labels=df_filtered[\"PERCENTAGE\"],\n",
    "    startangle=90,\n",
    "    counterclock=False,\n",
    "    explode=explode,\n",
    "    colors=['#F9F871','#FFC75F','#FF9671','#FF6F91','#D65DB1','#845EC2']\n",
    ")\n",
    "\n",
    "# 在图例中显示标签\n",
    "plt.legend(\n",
    "    labels=df_filtered[\"IAQI\"].map('IAQI:{}'.format),\n",
    "    loc=\"center left\",\n",
    "    bbox_to_anchor=(1, 0.5)\n",
    ")\n",
    "plt.title('PM2.5浓度在各IAQI区间的分布(按时间段)',x=0.65,y=-0.05)\n",
    "plt.show()"
   ]
  },
  {
   "cell_type": "code",
   "execution_count": null,
   "id": "98a34e7c",
   "metadata": {},
   "outputs": [],
   "source": []
  }
 ],
 "metadata": {
  "kernelspec": {
   "display_name": "Python 3 (ipykernel)",
   "language": "python",
   "name": "python3"
  },
  "language_info": {
   "codemirror_mode": {
    "name": "ipython",
    "version": 3
   },
   "file_extension": ".py",
   "mimetype": "text/x-python",
   "name": "python",
   "nbconvert_exporter": "python",
   "pygments_lexer": "ipython3",
   "version": "3.10.10"
  }
 },
 "nbformat": 4,
 "nbformat_minor": 5
}
