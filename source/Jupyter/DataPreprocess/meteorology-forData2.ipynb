{
 "cells": [
  {
   "cell_type": "code",
   "execution_count": 3,
   "id": "2202d74a",
   "metadata": {
    "ExecuteTime": {
     "end_time": "2023-06-10T06:52:25.307379Z",
     "start_time": "2023-06-10T06:52:25.300770Z"
    }
   },
   "outputs": [],
   "source": [
    "import pandas as pd\n",
    "import numpy as np"
   ]
  },
  {
   "cell_type": "code",
   "execution_count": 4,
   "id": "4ef656c0",
   "metadata": {
    "ExecuteTime": {
     "end_time": "2023-06-10T06:52:25.777774Z",
     "start_time": "2023-06-10T06:52:25.764808Z"
    }
   },
   "outputs": [],
   "source": [
    "# 读取数据文件并重命名列名\n",
    "df1 = pd.read_csv(\n",
    "    r'E:\\Projects\\OneDrive - somebottle\\文档Documents\\大数据分析Spark\\期末大作业\\气象监测数据\\data2.csv',\n",
    "    header=0,\n",
    "    names=['监测时间', 'SO2监测浓度(μg/m3)', 'NO2监测浓度(μg/m3)',\n",
    "           'PM10监测浓度(μg/m3)', 'PM2.5监测浓度(μg/m3)', 'O3监测浓度(μg/m3)',\n",
    "           'CO监测浓度(mg/m3)']\n",
    ")"
   ]
  },
  {
   "cell_type": "code",
   "execution_count": 5,
   "id": "d3478c8c",
   "metadata": {
    "ExecuteTime": {
     "end_time": "2023-06-10T06:52:27.555792Z",
     "start_time": "2023-06-10T06:52:27.543816Z"
    }
   },
   "outputs": [
    {
     "data": {
      "text/plain": [
       "819"
      ]
     },
     "execution_count": 5,
     "metadata": {},
     "output_type": "execute_result"
    }
   ],
   "source": [
    "df1.shape[0]"
   ]
  },
  {
   "cell_type": "code",
   "execution_count": 6,
   "id": "943b0b6c",
   "metadata": {
    "ExecuteTime": {
     "end_time": "2023-06-10T06:52:28.012871Z",
     "start_time": "2023-06-10T06:52:27.991812Z"
    }
   },
   "outputs": [
    {
     "data": {
      "text/html": [
       "<div>\n",
       "<style scoped>\n",
       "    .dataframe tbody tr th:only-of-type {\n",
       "        vertical-align: middle;\n",
       "    }\n",
       "\n",
       "    .dataframe tbody tr th {\n",
       "        vertical-align: top;\n",
       "    }\n",
       "\n",
       "    .dataframe thead th {\n",
       "        text-align: right;\n",
       "    }\n",
       "</style>\n",
       "<table border=\"1\" class=\"dataframe\">\n",
       "  <thead>\n",
       "    <tr style=\"text-align: right;\">\n",
       "      <th></th>\n",
       "      <th>监测时间</th>\n",
       "      <th>SO2监测浓度(μg/m3)</th>\n",
       "      <th>NO2监测浓度(μg/m3)</th>\n",
       "      <th>PM10监测浓度(μg/m3)</th>\n",
       "      <th>PM2.5监测浓度(μg/m3)</th>\n",
       "      <th>O3监测浓度(μg/m3)</th>\n",
       "      <th>CO监测浓度(mg/m3)</th>\n",
       "    </tr>\n",
       "  </thead>\n",
       "  <tbody>\n",
       "    <tr>\n",
       "      <th>814</th>\n",
       "      <td>2021-7-8</td>\n",
       "      <td>5</td>\n",
       "      <td>15</td>\n",
       "      <td>18</td>\n",
       "      <td>3</td>\n",
       "      <td>64</td>\n",
       "      <td>0.4</td>\n",
       "    </tr>\n",
       "    <tr>\n",
       "      <th>815</th>\n",
       "      <td>2021-7-9</td>\n",
       "      <td>7</td>\n",
       "      <td>17</td>\n",
       "      <td>28</td>\n",
       "      <td>12</td>\n",
       "      <td>146</td>\n",
       "      <td>0.4</td>\n",
       "    </tr>\n",
       "    <tr>\n",
       "      <th>816</th>\n",
       "      <td>2021-7-10</td>\n",
       "      <td>6</td>\n",
       "      <td>13</td>\n",
       "      <td>20</td>\n",
       "      <td>5</td>\n",
       "      <td>81</td>\n",
       "      <td>0.4</td>\n",
       "    </tr>\n",
       "    <tr>\n",
       "      <th>817</th>\n",
       "      <td>2021-7-11</td>\n",
       "      <td>6</td>\n",
       "      <td>11</td>\n",
       "      <td>20</td>\n",
       "      <td>3</td>\n",
       "      <td>63</td>\n",
       "      <td>0.3</td>\n",
       "    </tr>\n",
       "    <tr>\n",
       "      <th>818</th>\n",
       "      <td>2021-7-12</td>\n",
       "      <td>6</td>\n",
       "      <td>11</td>\n",
       "      <td>17</td>\n",
       "      <td>5</td>\n",
       "      <td>81</td>\n",
       "      <td>0.4</td>\n",
       "    </tr>\n",
       "  </tbody>\n",
       "</table>\n",
       "</div>"
      ],
      "text/plain": [
       "          监测时间  SO2监测浓度(μg/m3)  NO2监测浓度(μg/m3)  PM10监测浓度(μg/m3)  \\\n",
       "814   2021-7-8               5              15               18   \n",
       "815   2021-7-9               7              17               28   \n",
       "816  2021-7-10               6              13               20   \n",
       "817  2021-7-11               6              11               20   \n",
       "818  2021-7-12               6              11               17   \n",
       "\n",
       "     PM2.5监测浓度(μg/m3)  O3监测浓度(μg/m3)  CO监测浓度(mg/m3)  \n",
       "814                 3             64            0.4  \n",
       "815                12            146            0.4  \n",
       "816                 5             81            0.4  \n",
       "817                 3             63            0.3  \n",
       "818                 5             81            0.4  "
      ]
     },
     "execution_count": 6,
     "metadata": {},
     "output_type": "execute_result"
    }
   ],
   "source": [
    "df1.tail(5)"
   ]
  },
  {
   "cell_type": "code",
   "execution_count": 7,
   "id": "005a6f30",
   "metadata": {
    "ExecuteTime": {
     "end_time": "2023-06-10T06:52:31.839030Z",
     "start_time": "2023-06-10T06:52:31.725917Z"
    }
   },
   "outputs": [],
   "source": [
    "# 删除监测时间为空值的行\n",
    "df1 = df1.dropna(subset=['监测时间'])"
   ]
  },
  {
   "cell_type": "code",
   "execution_count": 8,
   "id": "eec7b8af",
   "metadata": {
    "ExecuteTime": {
     "end_time": "2023-06-10T06:52:33.121781Z",
     "start_time": "2023-06-10T06:52:33.112773Z"
    }
   },
   "outputs": [
    {
     "data": {
      "text/plain": [
       "819"
      ]
     },
     "execution_count": 8,
     "metadata": {},
     "output_type": "execute_result"
    }
   ],
   "source": [
    "df1.shape[0]"
   ]
  },
  {
   "cell_type": "code",
   "execution_count": 9,
   "id": "05618160",
   "metadata": {
    "ExecuteTime": {
     "end_time": "2023-06-10T06:52:34.002613Z",
     "start_time": "2023-06-10T06:52:33.953194Z"
    }
   },
   "outputs": [],
   "source": [
    "df1.columns[1:]\n",
    "# 将除了监测字段外所有字段强制转换为数值\n",
    "numeric_columns = df1.columns[1:]\n",
    "df1[numeric_columns] = df1[numeric_columns].apply(\n",
    "    pd.to_numeric, errors='coerce')"
   ]
  },
  {
   "cell_type": "code",
   "execution_count": 10,
   "id": "8fcbcd02",
   "metadata": {
    "ExecuteTime": {
     "end_time": "2023-06-10T06:52:37.289361Z",
     "start_time": "2023-06-10T06:52:37.200786Z"
    }
   },
   "outputs": [],
   "source": [
    "# 筛选出所有某字段不是数值的行\n",
    "invalid_rows = df1[df1[numeric_columns].isnull().any(axis=1)]"
   ]
  },
  {
   "cell_type": "code",
   "execution_count": 11,
   "id": "8d391224",
   "metadata": {
    "ExecuteTime": {
     "end_time": "2023-06-10T06:52:37.972170Z",
     "start_time": "2023-06-10T06:52:37.947809Z"
    }
   },
   "outputs": [
    {
     "data": {
      "text/html": [
       "<div>\n",
       "<style scoped>\n",
       "    .dataframe tbody tr th:only-of-type {\n",
       "        vertical-align: middle;\n",
       "    }\n",
       "\n",
       "    .dataframe tbody tr th {\n",
       "        vertical-align: top;\n",
       "    }\n",
       "\n",
       "    .dataframe thead th {\n",
       "        text-align: right;\n",
       "    }\n",
       "</style>\n",
       "<table border=\"1\" class=\"dataframe\">\n",
       "  <thead>\n",
       "    <tr style=\"text-align: right;\">\n",
       "      <th></th>\n",
       "      <th>监测时间</th>\n",
       "      <th>SO2监测浓度(μg/m3)</th>\n",
       "      <th>NO2监测浓度(μg/m3)</th>\n",
       "      <th>PM10监测浓度(μg/m3)</th>\n",
       "      <th>PM2.5监测浓度(μg/m3)</th>\n",
       "      <th>O3监测浓度(μg/m3)</th>\n",
       "      <th>CO监测浓度(mg/m3)</th>\n",
       "    </tr>\n",
       "  </thead>\n",
       "  <tbody>\n",
       "  </tbody>\n",
       "</table>\n",
       "</div>"
      ],
      "text/plain": [
       "Empty DataFrame\n",
       "Columns: [监测时间, SO2监测浓度(μg/m3), NO2监测浓度(μg/m3), PM10监测浓度(μg/m3), PM2.5监测浓度(μg/m3), O3监测浓度(μg/m3), CO监测浓度(mg/m3)]\n",
       "Index: []"
      ]
     },
     "execution_count": 11,
     "metadata": {},
     "output_type": "execute_result"
    }
   ],
   "source": [
    "invalid_rows"
   ]
  },
  {
   "cell_type": "code",
   "execution_count": 12,
   "id": "5242cb94",
   "metadata": {
    "ExecuteTime": {
     "end_time": "2023-06-10T06:52:38.679959Z",
     "start_time": "2023-06-10T06:52:38.654179Z"
    }
   },
   "outputs": [],
   "source": [
    "# 使用前向填充法(ffill)填充缺失值\n",
    "df1 = df1.fillna(method='ffill')"
   ]
  },
  {
   "cell_type": "code",
   "execution_count": 13,
   "id": "530364bb",
   "metadata": {
    "ExecuteTime": {
     "end_time": "2023-06-10T06:52:39.663580Z",
     "start_time": "2023-06-10T06:52:39.644587Z"
    }
   },
   "outputs": [
    {
     "data": {
      "text/html": [
       "<div>\n",
       "<style scoped>\n",
       "    .dataframe tbody tr th:only-of-type {\n",
       "        vertical-align: middle;\n",
       "    }\n",
       "\n",
       "    .dataframe tbody tr th {\n",
       "        vertical-align: top;\n",
       "    }\n",
       "\n",
       "    .dataframe thead th {\n",
       "        text-align: right;\n",
       "    }\n",
       "</style>\n",
       "<table border=\"1\" class=\"dataframe\">\n",
       "  <thead>\n",
       "    <tr style=\"text-align: right;\">\n",
       "      <th></th>\n",
       "      <th>监测时间</th>\n",
       "      <th>SO2监测浓度(μg/m3)</th>\n",
       "      <th>NO2监测浓度(μg/m3)</th>\n",
       "      <th>PM10监测浓度(μg/m3)</th>\n",
       "      <th>PM2.5监测浓度(μg/m3)</th>\n",
       "      <th>O3监测浓度(μg/m3)</th>\n",
       "      <th>CO监测浓度(mg/m3)</th>\n",
       "    </tr>\n",
       "  </thead>\n",
       "  <tbody>\n",
       "    <tr>\n",
       "      <th>8</th>\n",
       "      <td>2019-4-24</td>\n",
       "      <td>5</td>\n",
       "      <td>20</td>\n",
       "      <td>35</td>\n",
       "      <td>16</td>\n",
       "      <td>85</td>\n",
       "      <td>0.6</td>\n",
       "    </tr>\n",
       "    <tr>\n",
       "      <th>9</th>\n",
       "      <td>2019-4-25</td>\n",
       "      <td>7</td>\n",
       "      <td>23</td>\n",
       "      <td>36</td>\n",
       "      <td>19</td>\n",
       "      <td>79</td>\n",
       "      <td>0.7</td>\n",
       "    </tr>\n",
       "    <tr>\n",
       "      <th>10</th>\n",
       "      <td>2019-4-26</td>\n",
       "      <td>8</td>\n",
       "      <td>32</td>\n",
       "      <td>44</td>\n",
       "      <td>22</td>\n",
       "      <td>67</td>\n",
       "      <td>0.7</td>\n",
       "    </tr>\n",
       "    <tr>\n",
       "      <th>11</th>\n",
       "      <td>2019-4-27</td>\n",
       "      <td>6</td>\n",
       "      <td>48</td>\n",
       "      <td>22</td>\n",
       "      <td>12</td>\n",
       "      <td>56</td>\n",
       "      <td>0.7</td>\n",
       "    </tr>\n",
       "    <tr>\n",
       "      <th>12</th>\n",
       "      <td>2019-4-28</td>\n",
       "      <td>6</td>\n",
       "      <td>42</td>\n",
       "      <td>34</td>\n",
       "      <td>22</td>\n",
       "      <td>78</td>\n",
       "      <td>0.7</td>\n",
       "    </tr>\n",
       "    <tr>\n",
       "      <th>...</th>\n",
       "      <td>...</td>\n",
       "      <td>...</td>\n",
       "      <td>...</td>\n",
       "      <td>...</td>\n",
       "      <td>...</td>\n",
       "      <td>...</td>\n",
       "      <td>...</td>\n",
       "    </tr>\n",
       "    <tr>\n",
       "      <th>814</th>\n",
       "      <td>2021-7-8</td>\n",
       "      <td>5</td>\n",
       "      <td>15</td>\n",
       "      <td>18</td>\n",
       "      <td>3</td>\n",
       "      <td>64</td>\n",
       "      <td>0.4</td>\n",
       "    </tr>\n",
       "    <tr>\n",
       "      <th>815</th>\n",
       "      <td>2021-7-9</td>\n",
       "      <td>7</td>\n",
       "      <td>17</td>\n",
       "      <td>28</td>\n",
       "      <td>12</td>\n",
       "      <td>146</td>\n",
       "      <td>0.4</td>\n",
       "    </tr>\n",
       "    <tr>\n",
       "      <th>816</th>\n",
       "      <td>2021-7-10</td>\n",
       "      <td>6</td>\n",
       "      <td>13</td>\n",
       "      <td>20</td>\n",
       "      <td>5</td>\n",
       "      <td>81</td>\n",
       "      <td>0.4</td>\n",
       "    </tr>\n",
       "    <tr>\n",
       "      <th>817</th>\n",
       "      <td>2021-7-11</td>\n",
       "      <td>6</td>\n",
       "      <td>11</td>\n",
       "      <td>20</td>\n",
       "      <td>3</td>\n",
       "      <td>63</td>\n",
       "      <td>0.3</td>\n",
       "    </tr>\n",
       "    <tr>\n",
       "      <th>818</th>\n",
       "      <td>2021-7-12</td>\n",
       "      <td>6</td>\n",
       "      <td>11</td>\n",
       "      <td>17</td>\n",
       "      <td>5</td>\n",
       "      <td>81</td>\n",
       "      <td>0.4</td>\n",
       "    </tr>\n",
       "  </tbody>\n",
       "</table>\n",
       "<p>719 rows × 7 columns</p>\n",
       "</div>"
      ],
      "text/plain": [
       "          监测时间  SO2监测浓度(μg/m3)  NO2监测浓度(μg/m3)  PM10监测浓度(μg/m3)  \\\n",
       "8    2019-4-24               5              20               35   \n",
       "9    2019-4-25               7              23               36   \n",
       "10   2019-4-26               8              32               44   \n",
       "11   2019-4-27               6              48               22   \n",
       "12   2019-4-28               6              42               34   \n",
       "..         ...             ...             ...              ...   \n",
       "814   2021-7-8               5              15               18   \n",
       "815   2021-7-9               7              17               28   \n",
       "816  2021-7-10               6              13               20   \n",
       "817  2021-7-11               6              11               20   \n",
       "818  2021-7-12               6              11               17   \n",
       "\n",
       "     PM2.5监测浓度(μg/m3)  O3监测浓度(μg/m3)  CO监测浓度(mg/m3)  \n",
       "8                  16             85            0.6  \n",
       "9                  19             79            0.7  \n",
       "10                 22             67            0.7  \n",
       "11                 12             56            0.7  \n",
       "12                 22             78            0.7  \n",
       "..                ...            ...            ...  \n",
       "814                 3             64            0.4  \n",
       "815                12            146            0.4  \n",
       "816                 5             81            0.4  \n",
       "817                 3             63            0.3  \n",
       "818                 5             81            0.4  \n",
       "\n",
       "[719 rows x 7 columns]"
      ]
     },
     "execution_count": 13,
     "metadata": {},
     "output_type": "execute_result"
    }
   ],
   "source": [
    "df1[df1['监测时间'] > '2019-4-23 13:00']"
   ]
  },
  {
   "cell_type": "code",
   "execution_count": 14,
   "id": "36554383",
   "metadata": {
    "ExecuteTime": {
     "end_time": "2023-06-10T06:52:40.379762Z",
     "start_time": "2023-06-10T06:52:40.370908Z"
    }
   },
   "outputs": [
    {
     "data": {
      "text/plain": [
       "0"
      ]
     },
     "execution_count": 14,
     "metadata": {},
     "output_type": "execute_result"
    }
   ],
   "source": [
    "# 筛选出所有某字段为负值的行\n",
    "negative_rows = df1[(df1[numeric_columns] < 0).any(axis=1)]\n",
    "negative_rows.shape[0]"
   ]
  },
  {
   "cell_type": "code",
   "execution_count": 15,
   "id": "49772c1c",
   "metadata": {
    "ExecuteTime": {
     "end_time": "2023-06-10T06:52:41.323078Z",
     "start_time": "2023-06-10T06:52:41.234661Z"
    }
   },
   "outputs": [],
   "source": [
    "# 将所有负值替换为NaN\n",
    "df1[df1[numeric_columns] < 0] = np.nan\n",
    "# 使用前向填充法(ffill)填充缺失值\n",
    "df1 = df1.fillna(method='ffill')"
   ]
  },
  {
   "cell_type": "code",
   "execution_count": 16,
   "id": "9f1809b2",
   "metadata": {
    "ExecuteTime": {
     "end_time": "2023-06-10T06:52:42.012797Z",
     "start_time": "2023-06-10T06:52:41.992212Z"
    }
   },
   "outputs": [
    {
     "name": "stdout",
     "output_type": "stream",
     "text": [
      "负值行数: 0\n",
      "缺失值行数: 0\n"
     ]
    }
   ],
   "source": [
    "print('负值行数:', df1[(df1[numeric_columns] < 0).any(axis=1)].shape[0])\n",
    "print('缺失值行数:', df1[df1[numeric_columns].isnull().any(axis=1)].shape[0])"
   ]
  },
  {
   "cell_type": "code",
   "execution_count": 17,
   "id": "e0da53c1",
   "metadata": {
    "ExecuteTime": {
     "end_time": "2023-06-10T06:52:42.769877Z",
     "start_time": "2023-06-10T06:52:42.721948Z"
    }
   },
   "outputs": [],
   "source": [
    "# 将监测时间列转换成日期类型，并覆盖原数据\n",
    "df1['监测时间'] = pd.to_datetime(df1['监测时间'])"
   ]
  },
  {
   "cell_type": "code",
   "execution_count": 18,
   "id": "a3d871b6",
   "metadata": {
    "ExecuteTime": {
     "end_time": "2023-06-10T06:52:45.627810Z",
     "start_time": "2023-06-10T06:52:45.590066Z"
    }
   },
   "outputs": [],
   "source": [
    "df1.to_csv(\n",
    "    r'E:\\Projects\\OneDrive - somebottle\\文档Documents\\大数据分析Spark\\期末大作业\\气象监测数据\\preprocessed_by_day.csv',\n",
    "    index=False\n",
    ")"
   ]
  },
  {
   "cell_type": "code",
   "execution_count": null,
   "id": "cf43b335",
   "metadata": {},
   "outputs": [],
   "source": []
  },
  {
   "cell_type": "code",
   "execution_count": null,
   "id": "1d67b927",
   "metadata": {},
   "outputs": [],
   "source": []
  }
 ],
 "metadata": {
  "kernelspec": {
   "display_name": "Python 3 (ipykernel)",
   "language": "python",
   "name": "python3"
  },
  "language_info": {
   "codemirror_mode": {
    "name": "ipython",
    "version": 3
   },
   "file_extension": ".py",
   "mimetype": "text/x-python",
   "name": "python",
   "nbconvert_exporter": "python",
   "pygments_lexer": "ipython3",
   "version": "3.10.10"
  }
 },
 "nbformat": 4,
 "nbformat_minor": 5
}
