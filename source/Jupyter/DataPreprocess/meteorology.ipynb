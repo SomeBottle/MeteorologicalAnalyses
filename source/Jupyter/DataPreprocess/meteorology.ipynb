{
 "cells": [
  {
   "cell_type": "code",
   "execution_count": 50,
   "id": "2202d74a",
   "metadata": {
    "ExecuteTime": {
     "end_time": "2023-06-09T04:41:22.281471Z",
     "start_time": "2023-06-09T04:41:22.274677Z"
    }
   },
   "outputs": [],
   "source": [
    "import pandas as pd\n",
    "import numpy as np"
   ]
  },
  {
   "cell_type": "code",
   "execution_count": 51,
   "id": "4ef656c0",
   "metadata": {
    "ExecuteTime": {
     "end_time": "2023-06-09T04:41:22.831065Z",
     "start_time": "2023-06-09T04:41:22.728677Z"
    }
   },
   "outputs": [],
   "source": [
    "# 读取数据文件并重命名列名\n",
    "df1 = pd.read_csv(\n",
    "    r'E:\\Projects\\OneDrive - somebottle\\文档Documents\\大数据分析Spark\\期末大作业\\气象监测数据\\data1.csv',\n",
    "    header=0,\n",
    "    names=['监测时间', 'SO2监测浓度(μg/m3)', 'NO2监测浓度(μg/m3)',\n",
    "           'PM10监测浓度(μg/m3)', 'PM2.5监测浓度(μg/m3)', 'O3监测浓度(μg/m3)',\n",
    "           'CO监测浓度(mg/m3)', '温度(℃)', '湿度(%)', '气压(MBar)', '风速(m/s)',\n",
    "           '风向(°)', '云量', '长波辐射（W/m2）']\n",
    ")\n",
    "df2 = pd.read_csv(\n",
    "    r'E:\\Projects\\OneDrive - somebottle\\文档Documents\\大数据分析Spark\\期末大作业\\气象监测数据\\res.csv',\n",
    "    header=0,\n",
    "    names=['监测时间', 'SO2监测浓度(μg/m3)', 'NO2监测浓度(μg/m3)',\n",
    "           'PM10监测浓度(μg/m3)', 'PM2.5监测浓度(μg/m3)', 'O3监测浓度(μg/m3)',\n",
    "           'CO监测浓度(mg/m3)', '温度(℃)', '湿度(%)', '气压(MBar)', '风速(m/s)',\n",
    "           '风向(°)', '云量', '长波辐射（W/m2）']\n",
    ")"
   ]
  },
  {
   "cell_type": "code",
   "execution_count": 52,
   "id": "d3478c8c",
   "metadata": {
    "ExecuteTime": {
     "end_time": "2023-06-09T04:41:23.468953Z",
     "start_time": "2023-06-09T04:41:23.457816Z"
    }
   },
   "outputs": [
    {
     "data": {
      "text/plain": [
       "25416"
      ]
     },
     "execution_count": 52,
     "metadata": {},
     "output_type": "execute_result"
    }
   ],
   "source": [
    "df1.shape[0]"
   ]
  },
  {
   "cell_type": "code",
   "execution_count": 53,
   "id": "abd96215",
   "metadata": {
    "ExecuteTime": {
     "end_time": "2023-06-09T04:41:23.912105Z",
     "start_time": "2023-06-09T04:41:23.891048Z"
    }
   },
   "outputs": [
    {
     "data": {
      "text/plain": [
       "19380"
      ]
     },
     "execution_count": 53,
     "metadata": {},
     "output_type": "execute_result"
    }
   ],
   "source": [
    "df2.shape[0]"
   ]
  },
  {
   "cell_type": "code",
   "execution_count": 54,
   "id": "943b0b6c",
   "metadata": {
    "ExecuteTime": {
     "end_time": "2023-06-09T04:41:24.462797Z",
     "start_time": "2023-06-09T04:41:24.443364Z"
    }
   },
   "outputs": [
    {
     "data": {
      "text/html": [
       "<div>\n",
       "<style scoped>\n",
       "    .dataframe tbody tr th:only-of-type {\n",
       "        vertical-align: middle;\n",
       "    }\n",
       "\n",
       "    .dataframe tbody tr th {\n",
       "        vertical-align: top;\n",
       "    }\n",
       "\n",
       "    .dataframe thead th {\n",
       "        text-align: right;\n",
       "    }\n",
       "</style>\n",
       "<table border=\"1\" class=\"dataframe\">\n",
       "  <thead>\n",
       "    <tr style=\"text-align: right;\">\n",
       "      <th></th>\n",
       "      <th>监测时间</th>\n",
       "      <th>SO2监测浓度(μg/m3)</th>\n",
       "      <th>NO2监测浓度(μg/m3)</th>\n",
       "      <th>PM10监测浓度(μg/m3)</th>\n",
       "      <th>PM2.5监测浓度(μg/m3)</th>\n",
       "      <th>O3监测浓度(μg/m3)</th>\n",
       "      <th>CO监测浓度(mg/m3)</th>\n",
       "      <th>温度(℃)</th>\n",
       "      <th>湿度(%)</th>\n",
       "      <th>气压(MBar)</th>\n",
       "      <th>风速(m/s)</th>\n",
       "      <th>风向(°)</th>\n",
       "      <th>云量</th>\n",
       "      <th>长波辐射（W/m2）</th>\n",
       "    </tr>\n",
       "  </thead>\n",
       "  <tbody>\n",
       "    <tr>\n",
       "      <th>25411</th>\n",
       "      <td>NaN</td>\n",
       "      <td>NaN</td>\n",
       "      <td>NaN</td>\n",
       "      <td>NaN</td>\n",
       "      <td>NaN</td>\n",
       "      <td>NaN</td>\n",
       "      <td>NaN</td>\n",
       "      <td>NaN</td>\n",
       "      <td>NaN</td>\n",
       "      <td>NaN</td>\n",
       "      <td>NaN</td>\n",
       "      <td>NaN</td>\n",
       "      <td>NaN</td>\n",
       "      <td>NaN</td>\n",
       "    </tr>\n",
       "    <tr>\n",
       "      <th>25412</th>\n",
       "      <td>NaN</td>\n",
       "      <td>NaN</td>\n",
       "      <td>NaN</td>\n",
       "      <td>NaN</td>\n",
       "      <td>NaN</td>\n",
       "      <td>NaN</td>\n",
       "      <td>NaN</td>\n",
       "      <td>NaN</td>\n",
       "      <td>NaN</td>\n",
       "      <td>NaN</td>\n",
       "      <td>NaN</td>\n",
       "      <td>NaN</td>\n",
       "      <td>NaN</td>\n",
       "      <td>NaN</td>\n",
       "    </tr>\n",
       "    <tr>\n",
       "      <th>25413</th>\n",
       "      <td>NaN</td>\n",
       "      <td>NaN</td>\n",
       "      <td>NaN</td>\n",
       "      <td>NaN</td>\n",
       "      <td>NaN</td>\n",
       "      <td>NaN</td>\n",
       "      <td>NaN</td>\n",
       "      <td>NaN</td>\n",
       "      <td>NaN</td>\n",
       "      <td>NaN</td>\n",
       "      <td>NaN</td>\n",
       "      <td>NaN</td>\n",
       "      <td>NaN</td>\n",
       "      <td>NaN</td>\n",
       "    </tr>\n",
       "    <tr>\n",
       "      <th>25414</th>\n",
       "      <td>NaN</td>\n",
       "      <td>NaN</td>\n",
       "      <td>NaN</td>\n",
       "      <td>NaN</td>\n",
       "      <td>NaN</td>\n",
       "      <td>NaN</td>\n",
       "      <td>NaN</td>\n",
       "      <td>NaN</td>\n",
       "      <td>NaN</td>\n",
       "      <td>NaN</td>\n",
       "      <td>NaN</td>\n",
       "      <td>NaN</td>\n",
       "      <td>NaN</td>\n",
       "      <td>NaN</td>\n",
       "    </tr>\n",
       "    <tr>\n",
       "      <th>25415</th>\n",
       "      <td>NaN</td>\n",
       "      <td>NaN</td>\n",
       "      <td>NaN</td>\n",
       "      <td>NaN</td>\n",
       "      <td>NaN</td>\n",
       "      <td>NaN</td>\n",
       "      <td>NaN</td>\n",
       "      <td>NaN</td>\n",
       "      <td>NaN</td>\n",
       "      <td>NaN</td>\n",
       "      <td>NaN</td>\n",
       "      <td>NaN</td>\n",
       "      <td>NaN</td>\n",
       "      <td>NaN</td>\n",
       "    </tr>\n",
       "  </tbody>\n",
       "</table>\n",
       "</div>"
      ],
      "text/plain": [
       "      监测时间 SO2监测浓度(μg/m3) NO2监测浓度(μg/m3) PM10监测浓度(μg/m3) PM2.5监测浓度(μg/m3)  \\\n",
       "25411  NaN            NaN            NaN             NaN              NaN   \n",
       "25412  NaN            NaN            NaN             NaN              NaN   \n",
       "25413  NaN            NaN            NaN             NaN              NaN   \n",
       "25414  NaN            NaN            NaN             NaN              NaN   \n",
       "25415  NaN            NaN            NaN             NaN              NaN   \n",
       "\n",
       "      O3监测浓度(μg/m3) CO监测浓度(mg/m3) 温度(℃) 湿度(%) 气压(MBar) 风速(m/s) 风向(°)  云量  \\\n",
       "25411           NaN           NaN   NaN   NaN      NaN     NaN   NaN NaN   \n",
       "25412           NaN           NaN   NaN   NaN      NaN     NaN   NaN NaN   \n",
       "25413           NaN           NaN   NaN   NaN      NaN     NaN   NaN NaN   \n",
       "25414           NaN           NaN   NaN   NaN      NaN     NaN   NaN NaN   \n",
       "25415           NaN           NaN   NaN   NaN      NaN     NaN   NaN NaN   \n",
       "\n",
       "       长波辐射（W/m2）  \n",
       "25411         NaN  \n",
       "25412         NaN  \n",
       "25413         NaN  \n",
       "25414         NaN  \n",
       "25415         NaN  "
      ]
     },
     "execution_count": 54,
     "metadata": {},
     "output_type": "execute_result"
    }
   ],
   "source": [
    "df1.tail(5)"
   ]
  },
  {
   "cell_type": "code",
   "execution_count": 55,
   "id": "005a6f30",
   "metadata": {
    "ExecuteTime": {
     "end_time": "2023-06-09T04:41:24.937266Z",
     "start_time": "2023-06-09T04:41:24.914729Z"
    }
   },
   "outputs": [],
   "source": [
    "# 删除监测时间为空值的行\n",
    "df1 = df1.dropna(subset=['监测时间'])"
   ]
  },
  {
   "cell_type": "code",
   "execution_count": 56,
   "id": "eec7b8af",
   "metadata": {
    "ExecuteTime": {
     "end_time": "2023-06-09T04:41:25.513975Z",
     "start_time": "2023-06-09T04:41:25.501201Z"
    }
   },
   "outputs": [
    {
     "data": {
      "text/plain": [
       "19432"
      ]
     },
     "execution_count": 56,
     "metadata": {},
     "output_type": "execute_result"
    }
   ],
   "source": [
    "df1.shape[0]"
   ]
  },
  {
   "cell_type": "code",
   "execution_count": 57,
   "id": "05618160",
   "metadata": {
    "ExecuteTime": {
     "end_time": "2023-06-09T04:41:26.196211Z",
     "start_time": "2023-06-09T04:41:26.079977Z"
    }
   },
   "outputs": [],
   "source": [
    "df1.columns[1:]\n",
    "# 将除了监测字段外所有字段强制转换为数值\n",
    "numeric_columns = df1.columns[1:]\n",
    "df1[numeric_columns] = df1[numeric_columns].apply(\n",
    "    pd.to_numeric, errors='coerce')"
   ]
  },
  {
   "cell_type": "code",
   "execution_count": 58,
   "id": "8fcbcd02",
   "metadata": {
    "ExecuteTime": {
     "end_time": "2023-06-09T04:41:26.666213Z",
     "start_time": "2023-06-09T04:41:26.642982Z"
    }
   },
   "outputs": [],
   "source": [
    "# 筛选出所有某字段不是数值的行\n",
    "invalid_rows = df1[df1[numeric_columns].isnull().any(axis=1)]"
   ]
  },
  {
   "cell_type": "code",
   "execution_count": 59,
   "id": "8d391224",
   "metadata": {
    "ExecuteTime": {
     "end_time": "2023-06-09T04:41:27.350201Z",
     "start_time": "2023-06-09T04:41:27.319484Z"
    }
   },
   "outputs": [
    {
     "data": {
      "text/html": [
       "<div>\n",
       "<style scoped>\n",
       "    .dataframe tbody tr th:only-of-type {\n",
       "        vertical-align: middle;\n",
       "    }\n",
       "\n",
       "    .dataframe tbody tr th {\n",
       "        vertical-align: top;\n",
       "    }\n",
       "\n",
       "    .dataframe thead th {\n",
       "        text-align: right;\n",
       "    }\n",
       "</style>\n",
       "<table border=\"1\" class=\"dataframe\">\n",
       "  <thead>\n",
       "    <tr style=\"text-align: right;\">\n",
       "      <th></th>\n",
       "      <th>监测时间</th>\n",
       "      <th>SO2监测浓度(μg/m3)</th>\n",
       "      <th>NO2监测浓度(μg/m3)</th>\n",
       "      <th>PM10监测浓度(μg/m3)</th>\n",
       "      <th>PM2.5监测浓度(μg/m3)</th>\n",
       "      <th>O3监测浓度(μg/m3)</th>\n",
       "      <th>CO监测浓度(mg/m3)</th>\n",
       "      <th>温度(℃)</th>\n",
       "      <th>湿度(%)</th>\n",
       "      <th>气压(MBar)</th>\n",
       "      <th>风速(m/s)</th>\n",
       "      <th>风向(°)</th>\n",
       "      <th>云量</th>\n",
       "      <th>长波辐射（W/m2）</th>\n",
       "    </tr>\n",
       "  </thead>\n",
       "  <tbody>\n",
       "    <tr>\n",
       "      <th>181</th>\n",
       "      <td>2019-4-23 13:00</td>\n",
       "      <td>NaN</td>\n",
       "      <td>14.0</td>\n",
       "      <td>28.0</td>\n",
       "      <td>10.0</td>\n",
       "      <td>79.0</td>\n",
       "      <td>0.4</td>\n",
       "      <td>31.9</td>\n",
       "      <td>59.0</td>\n",
       "      <td>1007.6</td>\n",
       "      <td>1.6</td>\n",
       "      <td>239.0</td>\n",
       "      <td>0.202433</td>\n",
       "      <td>452.892</td>\n",
       "    </tr>\n",
       "    <tr>\n",
       "      <th>182</th>\n",
       "      <td>2019-4-23 14:00</td>\n",
       "      <td>5.0</td>\n",
       "      <td>14.0</td>\n",
       "      <td>26.0</td>\n",
       "      <td>13.0</td>\n",
       "      <td>NaN</td>\n",
       "      <td>0.4</td>\n",
       "      <td>32.2</td>\n",
       "      <td>59.0</td>\n",
       "      <td>1007.0</td>\n",
       "      <td>2.0</td>\n",
       "      <td>235.6</td>\n",
       "      <td>0.184343</td>\n",
       "      <td>457.530</td>\n",
       "    </tr>\n",
       "    <tr>\n",
       "      <th>183</th>\n",
       "      <td>2019-4-23 15:00</td>\n",
       "      <td>5.0</td>\n",
       "      <td>14.0</td>\n",
       "      <td>NaN</td>\n",
       "      <td>12.0</td>\n",
       "      <td>73.0</td>\n",
       "      <td>0.4</td>\n",
       "      <td>32.4</td>\n",
       "      <td>58.0</td>\n",
       "      <td>1006.5</td>\n",
       "      <td>1.9</td>\n",
       "      <td>239.3</td>\n",
       "      <td>0.259232</td>\n",
       "      <td>457.814</td>\n",
       "    </tr>\n",
       "    <tr>\n",
       "      <th>184</th>\n",
       "      <td>2019-4-23 16:00</td>\n",
       "      <td>4.0</td>\n",
       "      <td>NaN</td>\n",
       "      <td>NaN</td>\n",
       "      <td>10.0</td>\n",
       "      <td>64.0</td>\n",
       "      <td>0.6</td>\n",
       "      <td>31.9</td>\n",
       "      <td>60.0</td>\n",
       "      <td>1006.1</td>\n",
       "      <td>2.1</td>\n",
       "      <td>226.5</td>\n",
       "      <td>0.340000</td>\n",
       "      <td>458.077</td>\n",
       "    </tr>\n",
       "    <tr>\n",
       "      <th>185</th>\n",
       "      <td>2019-4-23 17:00</td>\n",
       "      <td>4.0</td>\n",
       "      <td>20.0</td>\n",
       "      <td>NaN</td>\n",
       "      <td>16.0</td>\n",
       "      <td>51.0</td>\n",
       "      <td>NaN</td>\n",
       "      <td>31.4</td>\n",
       "      <td>62.0</td>\n",
       "      <td>1006.1</td>\n",
       "      <td>2.0</td>\n",
       "      <td>233.0</td>\n",
       "      <td>0.178340</td>\n",
       "      <td>459.343</td>\n",
       "    </tr>\n",
       "    <tr>\n",
       "      <th>...</th>\n",
       "      <td>...</td>\n",
       "      <td>...</td>\n",
       "      <td>...</td>\n",
       "      <td>...</td>\n",
       "      <td>...</td>\n",
       "      <td>...</td>\n",
       "      <td>...</td>\n",
       "      <td>...</td>\n",
       "      <td>...</td>\n",
       "      <td>...</td>\n",
       "      <td>...</td>\n",
       "      <td>...</td>\n",
       "      <td>...</td>\n",
       "      <td>...</td>\n",
       "    </tr>\n",
       "    <tr>\n",
       "      <th>19410</th>\n",
       "      <td>2021-7-12 10:00</td>\n",
       "      <td>6.0</td>\n",
       "      <td>10.0</td>\n",
       "      <td>NaN</td>\n",
       "      <td>14.0</td>\n",
       "      <td>NaN</td>\n",
       "      <td>NaN</td>\n",
       "      <td>32.2</td>\n",
       "      <td>63.0</td>\n",
       "      <td>1009.5</td>\n",
       "      <td>1.7</td>\n",
       "      <td>104.8</td>\n",
       "      <td>0.126593</td>\n",
       "      <td>394.797</td>\n",
       "    </tr>\n",
       "    <tr>\n",
       "      <th>19411</th>\n",
       "      <td>2021-7-12 11:00</td>\n",
       "      <td>6.0</td>\n",
       "      <td>NaN</td>\n",
       "      <td>NaN</td>\n",
       "      <td>2.0</td>\n",
       "      <td>54.0</td>\n",
       "      <td>0.4</td>\n",
       "      <td>32.1</td>\n",
       "      <td>69.0</td>\n",
       "      <td>1009.2</td>\n",
       "      <td>1.4</td>\n",
       "      <td>90.8</td>\n",
       "      <td>0.000000</td>\n",
       "      <td>392.577</td>\n",
       "    </tr>\n",
       "    <tr>\n",
       "      <th>19412</th>\n",
       "      <td>2021-7-12 12:00</td>\n",
       "      <td>6.0</td>\n",
       "      <td>14.0</td>\n",
       "      <td>NaN</td>\n",
       "      <td>7.0</td>\n",
       "      <td>65.0</td>\n",
       "      <td>0.4</td>\n",
       "      <td>31.5</td>\n",
       "      <td>72.0</td>\n",
       "      <td>1008.6</td>\n",
       "      <td>1.4</td>\n",
       "      <td>72.0</td>\n",
       "      <td>0.000000</td>\n",
       "      <td>388.794</td>\n",
       "    </tr>\n",
       "    <tr>\n",
       "      <th>19413</th>\n",
       "      <td>2021-7-12 13:00</td>\n",
       "      <td>6.0</td>\n",
       "      <td>8.0</td>\n",
       "      <td>NaN</td>\n",
       "      <td>5.0</td>\n",
       "      <td>91.0</td>\n",
       "      <td>0.4</td>\n",
       "      <td>32.5</td>\n",
       "      <td>65.0</td>\n",
       "      <td>1008.0</td>\n",
       "      <td>2.0</td>\n",
       "      <td>110.4</td>\n",
       "      <td>0.000000</td>\n",
       "      <td>386.169</td>\n",
       "    </tr>\n",
       "    <tr>\n",
       "      <th>19431</th>\n",
       "      <td>2021-7-13 7:00</td>\n",
       "      <td>8.0</td>\n",
       "      <td>14.0</td>\n",
       "      <td>NaN</td>\n",
       "      <td>5.0</td>\n",
       "      <td>19.0</td>\n",
       "      <td>0.4</td>\n",
       "      <td>30.2</td>\n",
       "      <td>75.0</td>\n",
       "      <td>1007.0</td>\n",
       "      <td>1.2</td>\n",
       "      <td>240.9</td>\n",
       "      <td>0.047787</td>\n",
       "      <td>390.787</td>\n",
       "    </tr>\n",
       "  </tbody>\n",
       "</table>\n",
       "<p>768 rows × 14 columns</p>\n",
       "</div>"
      ],
      "text/plain": [
       "                  监测时间  SO2监测浓度(μg/m3)  NO2监测浓度(μg/m3)  PM10监测浓度(μg/m3)  \\\n",
       "181    2019-4-23 13:00             NaN            14.0             28.0   \n",
       "182    2019-4-23 14:00             5.0            14.0             26.0   \n",
       "183    2019-4-23 15:00             5.0            14.0              NaN   \n",
       "184    2019-4-23 16:00             4.0             NaN              NaN   \n",
       "185    2019-4-23 17:00             4.0            20.0              NaN   \n",
       "...                ...             ...             ...              ...   \n",
       "19410  2021-7-12 10:00             6.0            10.0              NaN   \n",
       "19411  2021-7-12 11:00             6.0             NaN              NaN   \n",
       "19412  2021-7-12 12:00             6.0            14.0              NaN   \n",
       "19413  2021-7-12 13:00             6.0             8.0              NaN   \n",
       "19431   2021-7-13 7:00             8.0            14.0              NaN   \n",
       "\n",
       "       PM2.5监测浓度(μg/m3)  O3监测浓度(μg/m3)  CO监测浓度(mg/m3)  温度(℃)  湿度(%)  气压(MBar)  \\\n",
       "181                10.0           79.0            0.4   31.9   59.0    1007.6   \n",
       "182                13.0            NaN            0.4   32.2   59.0    1007.0   \n",
       "183                12.0           73.0            0.4   32.4   58.0    1006.5   \n",
       "184                10.0           64.0            0.6   31.9   60.0    1006.1   \n",
       "185                16.0           51.0            NaN   31.4   62.0    1006.1   \n",
       "...                 ...            ...            ...    ...    ...       ...   \n",
       "19410              14.0            NaN            NaN   32.2   63.0    1009.5   \n",
       "19411               2.0           54.0            0.4   32.1   69.0    1009.2   \n",
       "19412               7.0           65.0            0.4   31.5   72.0    1008.6   \n",
       "19413               5.0           91.0            0.4   32.5   65.0    1008.0   \n",
       "19431               5.0           19.0            0.4   30.2   75.0    1007.0   \n",
       "\n",
       "       风速(m/s)  风向(°)        云量  长波辐射（W/m2）  \n",
       "181        1.6  239.0  0.202433     452.892  \n",
       "182        2.0  235.6  0.184343     457.530  \n",
       "183        1.9  239.3  0.259232     457.814  \n",
       "184        2.1  226.5  0.340000     458.077  \n",
       "185        2.0  233.0  0.178340     459.343  \n",
       "...        ...    ...       ...         ...  \n",
       "19410      1.7  104.8  0.126593     394.797  \n",
       "19411      1.4   90.8  0.000000     392.577  \n",
       "19412      1.4   72.0  0.000000     388.794  \n",
       "19413      2.0  110.4  0.000000     386.169  \n",
       "19431      1.2  240.9  0.047787     390.787  \n",
       "\n",
       "[768 rows x 14 columns]"
      ]
     },
     "execution_count": 59,
     "metadata": {},
     "output_type": "execute_result"
    }
   ],
   "source": [
    "invalid_rows"
   ]
  },
  {
   "cell_type": "code",
   "execution_count": 60,
   "id": "5242cb94",
   "metadata": {
    "ExecuteTime": {
     "end_time": "2023-06-09T04:41:27.973458Z",
     "start_time": "2023-06-09T04:41:27.950769Z"
    }
   },
   "outputs": [],
   "source": [
    "# 使用前向填充法(ffill)填充缺失值\n",
    "df1 = df1.fillna(method='ffill')"
   ]
  },
  {
   "cell_type": "code",
   "execution_count": 61,
   "id": "530364bb",
   "metadata": {
    "ExecuteTime": {
     "end_time": "2023-06-09T04:41:28.668846Z",
     "start_time": "2023-06-09T04:41:28.632213Z"
    }
   },
   "outputs": [
    {
     "data": {
      "text/html": [
       "<div>\n",
       "<style scoped>\n",
       "    .dataframe tbody tr th:only-of-type {\n",
       "        vertical-align: middle;\n",
       "    }\n",
       "\n",
       "    .dataframe tbody tr th {\n",
       "        vertical-align: top;\n",
       "    }\n",
       "\n",
       "    .dataframe thead th {\n",
       "        text-align: right;\n",
       "    }\n",
       "</style>\n",
       "<table border=\"1\" class=\"dataframe\">\n",
       "  <thead>\n",
       "    <tr style=\"text-align: right;\">\n",
       "      <th></th>\n",
       "      <th>监测时间</th>\n",
       "      <th>SO2监测浓度(μg/m3)</th>\n",
       "      <th>NO2监测浓度(μg/m3)</th>\n",
       "      <th>PM10监测浓度(μg/m3)</th>\n",
       "      <th>PM2.5监测浓度(μg/m3)</th>\n",
       "      <th>O3监测浓度(μg/m3)</th>\n",
       "      <th>CO监测浓度(mg/m3)</th>\n",
       "      <th>温度(℃)</th>\n",
       "      <th>湿度(%)</th>\n",
       "      <th>气压(MBar)</th>\n",
       "      <th>风速(m/s)</th>\n",
       "      <th>风向(°)</th>\n",
       "      <th>云量</th>\n",
       "      <th>长波辐射（W/m2）</th>\n",
       "    </tr>\n",
       "  </thead>\n",
       "  <tbody>\n",
       "    <tr>\n",
       "      <th>169</th>\n",
       "      <td>2019-4-23 1:00</td>\n",
       "      <td>1.0</td>\n",
       "      <td>39.0</td>\n",
       "      <td>26.0</td>\n",
       "      <td>9.0</td>\n",
       "      <td>-1.0</td>\n",
       "      <td>0.5</td>\n",
       "      <td>25.9</td>\n",
       "      <td>87.0</td>\n",
       "      <td>1007.8</td>\n",
       "      <td>0.5</td>\n",
       "      <td>33.5</td>\n",
       "      <td>0.295057</td>\n",
       "      <td>445.572</td>\n",
       "    </tr>\n",
       "    <tr>\n",
       "      <th>170</th>\n",
       "      <td>2019-4-23 2:00</td>\n",
       "      <td>0.0</td>\n",
       "      <td>33.0</td>\n",
       "      <td>40.0</td>\n",
       "      <td>17.0</td>\n",
       "      <td>-1.0</td>\n",
       "      <td>0.5</td>\n",
       "      <td>25.6</td>\n",
       "      <td>90.0</td>\n",
       "      <td>1007.7</td>\n",
       "      <td>0.4</td>\n",
       "      <td>61.3</td>\n",
       "      <td>0.297007</td>\n",
       "      <td>442.055</td>\n",
       "    </tr>\n",
       "    <tr>\n",
       "      <th>171</th>\n",
       "      <td>2019-4-23 3:00</td>\n",
       "      <td>0.0</td>\n",
       "      <td>32.0</td>\n",
       "      <td>35.0</td>\n",
       "      <td>17.0</td>\n",
       "      <td>-1.0</td>\n",
       "      <td>0.5</td>\n",
       "      <td>25.2</td>\n",
       "      <td>92.0</td>\n",
       "      <td>1007.4</td>\n",
       "      <td>0.5</td>\n",
       "      <td>69.4</td>\n",
       "      <td>0.423002</td>\n",
       "      <td>440.072</td>\n",
       "    </tr>\n",
       "    <tr>\n",
       "      <th>172</th>\n",
       "      <td>2019-4-23 4:00</td>\n",
       "      <td>3.0</td>\n",
       "      <td>35.0</td>\n",
       "      <td>35.0</td>\n",
       "      <td>16.0</td>\n",
       "      <td>-1.0</td>\n",
       "      <td>0.5</td>\n",
       "      <td>25.0</td>\n",
       "      <td>94.0</td>\n",
       "      <td>1007.8</td>\n",
       "      <td>0.7</td>\n",
       "      <td>32.4</td>\n",
       "      <td>0.502272</td>\n",
       "      <td>435.337</td>\n",
       "    </tr>\n",
       "    <tr>\n",
       "      <th>173</th>\n",
       "      <td>2019-4-23 5:00</td>\n",
       "      <td>5.0</td>\n",
       "      <td>34.0</td>\n",
       "      <td>39.0</td>\n",
       "      <td>22.0</td>\n",
       "      <td>-1.0</td>\n",
       "      <td>0.6</td>\n",
       "      <td>24.9</td>\n",
       "      <td>95.0</td>\n",
       "      <td>1008.4</td>\n",
       "      <td>0.7</td>\n",
       "      <td>28.2</td>\n",
       "      <td>0.427335</td>\n",
       "      <td>433.479</td>\n",
       "    </tr>\n",
       "    <tr>\n",
       "      <th>...</th>\n",
       "      <td>...</td>\n",
       "      <td>...</td>\n",
       "      <td>...</td>\n",
       "      <td>...</td>\n",
       "      <td>...</td>\n",
       "      <td>...</td>\n",
       "      <td>...</td>\n",
       "      <td>...</td>\n",
       "      <td>...</td>\n",
       "      <td>...</td>\n",
       "      <td>...</td>\n",
       "      <td>...</td>\n",
       "      <td>...</td>\n",
       "      <td>...</td>\n",
       "    </tr>\n",
       "    <tr>\n",
       "      <th>19427</th>\n",
       "      <td>2021-7-13 3:00</td>\n",
       "      <td>6.0</td>\n",
       "      <td>12.0</td>\n",
       "      <td>12.0</td>\n",
       "      <td>0.0</td>\n",
       "      <td>14.0</td>\n",
       "      <td>0.4</td>\n",
       "      <td>29.2</td>\n",
       "      <td>78.0</td>\n",
       "      <td>1006.2</td>\n",
       "      <td>0.8</td>\n",
       "      <td>350.5</td>\n",
       "      <td>0.126031</td>\n",
       "      <td>370.150</td>\n",
       "    </tr>\n",
       "    <tr>\n",
       "      <th>19428</th>\n",
       "      <td>2021-7-13 4:00</td>\n",
       "      <td>7.0</td>\n",
       "      <td>15.0</td>\n",
       "      <td>9.0</td>\n",
       "      <td>0.0</td>\n",
       "      <td>11.0</td>\n",
       "      <td>0.4</td>\n",
       "      <td>29.2</td>\n",
       "      <td>78.0</td>\n",
       "      <td>1006.3</td>\n",
       "      <td>0.7</td>\n",
       "      <td>246.3</td>\n",
       "      <td>0.113265</td>\n",
       "      <td>373.915</td>\n",
       "    </tr>\n",
       "    <tr>\n",
       "      <th>19429</th>\n",
       "      <td>2021-7-13 5:00</td>\n",
       "      <td>9.0</td>\n",
       "      <td>19.0</td>\n",
       "      <td>9.0</td>\n",
       "      <td>2.0</td>\n",
       "      <td>8.0</td>\n",
       "      <td>0.4</td>\n",
       "      <td>29.2</td>\n",
       "      <td>78.0</td>\n",
       "      <td>1006.4</td>\n",
       "      <td>1.0</td>\n",
       "      <td>253.2</td>\n",
       "      <td>0.068201</td>\n",
       "      <td>378.761</td>\n",
       "    </tr>\n",
       "    <tr>\n",
       "      <th>19430</th>\n",
       "      <td>2021-7-13 6:00</td>\n",
       "      <td>8.0</td>\n",
       "      <td>20.0</td>\n",
       "      <td>22.0</td>\n",
       "      <td>5.0</td>\n",
       "      <td>6.0</td>\n",
       "      <td>0.4</td>\n",
       "      <td>29.0</td>\n",
       "      <td>81.0</td>\n",
       "      <td>1006.8</td>\n",
       "      <td>0.5</td>\n",
       "      <td>267.9</td>\n",
       "      <td>0.028382</td>\n",
       "      <td>384.626</td>\n",
       "    </tr>\n",
       "    <tr>\n",
       "      <th>19431</th>\n",
       "      <td>2021-7-13 7:00</td>\n",
       "      <td>8.0</td>\n",
       "      <td>14.0</td>\n",
       "      <td>22.0</td>\n",
       "      <td>5.0</td>\n",
       "      <td>19.0</td>\n",
       "      <td>0.4</td>\n",
       "      <td>30.2</td>\n",
       "      <td>75.0</td>\n",
       "      <td>1007.0</td>\n",
       "      <td>1.2</td>\n",
       "      <td>240.9</td>\n",
       "      <td>0.047787</td>\n",
       "      <td>390.787</td>\n",
       "    </tr>\n",
       "  </tbody>\n",
       "</table>\n",
       "<p>17073 rows × 14 columns</p>\n",
       "</div>"
      ],
      "text/plain": [
       "                 监测时间  SO2监测浓度(μg/m3)  NO2监测浓度(μg/m3)  PM10监测浓度(μg/m3)  \\\n",
       "169    2019-4-23 1:00             1.0            39.0             26.0   \n",
       "170    2019-4-23 2:00             0.0            33.0             40.0   \n",
       "171    2019-4-23 3:00             0.0            32.0             35.0   \n",
       "172    2019-4-23 4:00             3.0            35.0             35.0   \n",
       "173    2019-4-23 5:00             5.0            34.0             39.0   \n",
       "...               ...             ...             ...              ...   \n",
       "19427  2021-7-13 3:00             6.0            12.0             12.0   \n",
       "19428  2021-7-13 4:00             7.0            15.0              9.0   \n",
       "19429  2021-7-13 5:00             9.0            19.0              9.0   \n",
       "19430  2021-7-13 6:00             8.0            20.0             22.0   \n",
       "19431  2021-7-13 7:00             8.0            14.0             22.0   \n",
       "\n",
       "       PM2.5监测浓度(μg/m3)  O3监测浓度(μg/m3)  CO监测浓度(mg/m3)  温度(℃)  湿度(%)  气压(MBar)  \\\n",
       "169                 9.0           -1.0            0.5   25.9   87.0    1007.8   \n",
       "170                17.0           -1.0            0.5   25.6   90.0    1007.7   \n",
       "171                17.0           -1.0            0.5   25.2   92.0    1007.4   \n",
       "172                16.0           -1.0            0.5   25.0   94.0    1007.8   \n",
       "173                22.0           -1.0            0.6   24.9   95.0    1008.4   \n",
       "...                 ...            ...            ...    ...    ...       ...   \n",
       "19427               0.0           14.0            0.4   29.2   78.0    1006.2   \n",
       "19428               0.0           11.0            0.4   29.2   78.0    1006.3   \n",
       "19429               2.0            8.0            0.4   29.2   78.0    1006.4   \n",
       "19430               5.0            6.0            0.4   29.0   81.0    1006.8   \n",
       "19431               5.0           19.0            0.4   30.2   75.0    1007.0   \n",
       "\n",
       "       风速(m/s)  风向(°)        云量  长波辐射（W/m2）  \n",
       "169        0.5   33.5  0.295057     445.572  \n",
       "170        0.4   61.3  0.297007     442.055  \n",
       "171        0.5   69.4  0.423002     440.072  \n",
       "172        0.7   32.4  0.502272     435.337  \n",
       "173        0.7   28.2  0.427335     433.479  \n",
       "...        ...    ...       ...         ...  \n",
       "19427      0.8  350.5  0.126031     370.150  \n",
       "19428      0.7  246.3  0.113265     373.915  \n",
       "19429      1.0  253.2  0.068201     378.761  \n",
       "19430      0.5  267.9  0.028382     384.626  \n",
       "19431      1.2  240.9  0.047787     390.787  \n",
       "\n",
       "[17073 rows x 14 columns]"
      ]
     },
     "execution_count": 61,
     "metadata": {},
     "output_type": "execute_result"
    }
   ],
   "source": [
    "df1[df1['监测时间'] > '2019-4-23 13:00']"
   ]
  },
  {
   "cell_type": "code",
   "execution_count": 62,
   "id": "36554383",
   "metadata": {
    "ExecuteTime": {
     "end_time": "2023-06-09T04:41:29.291535Z",
     "start_time": "2023-06-09T04:41:29.272725Z"
    }
   },
   "outputs": [
    {
     "data": {
      "text/plain": [
       "271"
      ]
     },
     "execution_count": 62,
     "metadata": {},
     "output_type": "execute_result"
    }
   ],
   "source": [
    "# 筛选出所有某字段为负值的行\n",
    "negative_rows = df1[(df1[numeric_columns] < 0).any(axis=1)]\n",
    "negative_rows.shape[0]"
   ]
  },
  {
   "cell_type": "code",
   "execution_count": 63,
   "id": "49772c1c",
   "metadata": {
    "ExecuteTime": {
     "end_time": "2023-06-09T04:41:30.003357Z",
     "start_time": "2023-06-09T04:41:29.962429Z"
    }
   },
   "outputs": [],
   "source": [
    "# 将所有负值替换为NaN\n",
    "df1[df1[numeric_columns] < 0] = np.nan\n",
    "# 使用前向填充法(ffill)填充缺失值\n",
    "df1 = df1.fillna(method='ffill')"
   ]
  },
  {
   "cell_type": "code",
   "execution_count": 64,
   "id": "9f1809b2",
   "metadata": {
    "ExecuteTime": {
     "end_time": "2023-06-09T04:41:30.615716Z",
     "start_time": "2023-06-09T04:41:30.603733Z"
    }
   },
   "outputs": [
    {
     "name": "stdout",
     "output_type": "stream",
     "text": [
      "负值行数: 0\n",
      "缺失值行数: 0\n"
     ]
    }
   ],
   "source": [
    "print('负值行数:', df1[(df1[numeric_columns] < 0).any(axis=1)].shape[0])\n",
    "print('缺失值行数:', df1[df1[numeric_columns].isnull().any(axis=1)].shape[0])"
   ]
  },
  {
   "cell_type": "code",
   "execution_count": 65,
   "id": "e0da53c1",
   "metadata": {
    "ExecuteTime": {
     "end_time": "2023-06-09T04:41:31.253010Z",
     "start_time": "2023-06-09T04:41:31.230035Z"
    }
   },
   "outputs": [],
   "source": [
    "# 将监测时间列转换成日期类型，并覆盖原数据\n",
    "df1['监测时间'] = pd.to_datetime(df1['监测时间'])"
   ]
  },
  {
   "cell_type": "code",
   "execution_count": 66,
   "id": "a3d871b6",
   "metadata": {
    "ExecuteTime": {
     "end_time": "2023-06-09T04:41:32.135879Z",
     "start_time": "2023-06-09T04:41:31.917437Z"
    }
   },
   "outputs": [],
   "source": [
    "df1.to_csv(\n",
    "    r'E:\\Projects\\OneDrive - somebottle\\文档Documents\\大数据分析Spark\\期末大作业\\气象监测数据\\preprocessed.csv',\n",
    "    index=False\n",
    ")"
   ]
  },
  {
   "cell_type": "code",
   "execution_count": null,
   "id": "cf43b335",
   "metadata": {},
   "outputs": [],
   "source": []
  },
  {
   "cell_type": "code",
   "execution_count": null,
   "id": "1d67b927",
   "metadata": {},
   "outputs": [],
   "source": []
  }
 ],
 "metadata": {
  "kernelspec": {
   "display_name": "Python 3 (ipykernel)",
   "language": "python",
   "name": "python3"
  },
  "language_info": {
   "codemirror_mode": {
    "name": "ipython",
    "version": 3
   },
   "file_extension": ".py",
   "mimetype": "text/x-python",
   "name": "python",
   "nbconvert_exporter": "python",
   "pygments_lexer": "ipython3",
   "version": "3.10.10"
  }
 },
 "nbformat": 4,
 "nbformat_minor": 5
}
