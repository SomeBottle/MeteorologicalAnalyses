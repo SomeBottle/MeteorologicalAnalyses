{
 "cells": [
  {
   "cell_type": "code",
   "execution_count": 1,
   "id": "4f1e4e5b",
   "metadata": {
    "ExecuteTime": {
     "end_time": "2023-06-11T13:40:10.102949Z",
     "start_time": "2023-06-11T13:40:06.936022Z"
    }
   },
   "outputs": [],
   "source": [
    "import os\n",
    "import pandas as pd\n",
    "import seaborn as sns\n",
    "import matplotlib.pyplot as plt\n",
    "plt.rcParams['font.sans-serif'] = ['SimHei'] # 显示中文\n",
    "plt.rcParams['axes.unicode_minus'] = False # 显示负号"
   ]
  },
  {
   "cell_type": "code",
   "execution_count": 2,
   "id": "b3f43611",
   "metadata": {
    "ExecuteTime": {
     "end_time": "2023-06-11T13:40:10.148910Z",
     "start_time": "2023-06-11T13:40:10.106938Z"
    },
    "scrolled": true
   },
   "outputs": [
    {
     "data": {
      "text/html": [
       "<div>\n",
       "<style scoped>\n",
       "    .dataframe tbody tr th:only-of-type {\n",
       "        vertical-align: middle;\n",
       "    }\n",
       "\n",
       "    .dataframe tbody tr th {\n",
       "        vertical-align: top;\n",
       "    }\n",
       "\n",
       "    .dataframe thead th {\n",
       "        text-align: right;\n",
       "    }\n",
       "</style>\n",
       "<table border=\"1\" class=\"dataframe\">\n",
       "  <thead>\n",
       "    <tr style=\"text-align: right;\">\n",
       "      <th></th>\n",
       "      <th>IAQI</th>\n",
       "      <th>COUNT</th>\n",
       "    </tr>\n",
       "  </thead>\n",
       "  <tbody>\n",
       "    <tr>\n",
       "      <th>0</th>\n",
       "      <td>0</td>\n",
       "      <td>14</td>\n",
       "    </tr>\n",
       "    <tr>\n",
       "      <th>1</th>\n",
       "      <td>50</td>\n",
       "      <td>13106</td>\n",
       "    </tr>\n",
       "    <tr>\n",
       "      <th>2</th>\n",
       "      <td>100</td>\n",
       "      <td>6223</td>\n",
       "    </tr>\n",
       "    <tr>\n",
       "      <th>3</th>\n",
       "      <td>150</td>\n",
       "      <td>89</td>\n",
       "    </tr>\n",
       "    <tr>\n",
       "      <th>4</th>\n",
       "      <td>200</td>\n",
       "      <td>0</td>\n",
       "    </tr>\n",
       "    <tr>\n",
       "      <th>5</th>\n",
       "      <td>300</td>\n",
       "      <td>0</td>\n",
       "    </tr>\n",
       "    <tr>\n",
       "      <th>6</th>\n",
       "      <td>400</td>\n",
       "      <td>0</td>\n",
       "    </tr>\n",
       "    <tr>\n",
       "      <th>7</th>\n",
       "      <td>500</td>\n",
       "      <td>0</td>\n",
       "    </tr>\n",
       "  </tbody>\n",
       "</table>\n",
       "</div>"
      ],
      "text/plain": [
       "   IAQI  COUNT\n",
       "0     0     14\n",
       "1    50  13106\n",
       "2   100   6223\n",
       "3   150     89\n",
       "4   200      0\n",
       "5   300      0\n",
       "6   400      0\n",
       "7   500      0"
      ]
     },
     "execution_count": 2,
     "metadata": {},
     "output_type": "execute_result"
    }
   ],
   "source": [
    "# 读取PM2.5在各IAQI区间的时间段数\n",
    "data_dir=r'E:\\Projects\\OneDrive - somebottle\\文档Documents\\大数据分析Spark\\期末大作业\\analyses\\pm10_iaqi_count'\n",
    "# 筛选出所有CSV文件\n",
    "csv_files = [f for f in os.listdir(data_dir) if f.endswith('.csv')]\n",
    "df=None\n",
    "for i in csv_files:\n",
    "    path=os.path.join(data_dir,i)\n",
    "    df_rd=pd.read_csv(path)\n",
    "    if df is None:\n",
    "        df=df_rd\n",
    "    else:\n",
    "        df=pd.concat([df,df_rd])\n",
    "df.reset_index(drop=True,inplace=True) # 重置索引\n",
    "df"
   ]
  },
  {
   "cell_type": "code",
   "execution_count": 3,
   "id": "5ac67094",
   "metadata": {
    "ExecuteTime": {
     "end_time": "2023-06-11T13:40:12.324298Z",
     "start_time": "2023-06-11T13:40:12.315319Z"
    }
   },
   "outputs": [],
   "source": [
    "# 计算每个 IAQI 区间中COUNT所占总数的比例\n",
    "total_count = df['COUNT'].sum()\n",
    "df['RATIO'] = df['COUNT'] / total_count\n",
    "df['PERCENTAGE'] = (df['RATIO']*100).map('{:.2f}%'.format)"
   ]
  },
  {
   "cell_type": "code",
   "execution_count": 4,
   "id": "42247de2",
   "metadata": {
    "ExecuteTime": {
     "end_time": "2023-06-11T13:40:12.870030Z",
     "start_time": "2023-06-11T13:40:12.842160Z"
    },
    "scrolled": true
   },
   "outputs": [
    {
     "name": "stderr",
     "output_type": "stream",
     "text": [
      "C:\\Users\\58379\\AppData\\Local\\Temp\\ipykernel_19784\\3468949233.py:3: SettingWithCopyWarning: \n",
      "A value is trying to be set on a copy of a slice from a DataFrame\n",
      "\n",
      "See the caveats in the documentation: https://pandas.pydata.org/pandas-docs/stable/user_guide/indexing.html#returning-a-view-versus-a-copy\n",
      "  df_filtered.sort_values(by='COUNT',ascending=True,inplace=True)\n"
     ]
    }
   ],
   "source": [
    "df_filtered=df[df['COUNT']>0] # 过滤掉空值行\n",
    "# 按照计数列升序排序，这是为了后面绘图时的explode处理\n",
    "df_filtered.sort_values(by='COUNT',ascending=True,inplace=True)"
   ]
  },
  {
   "cell_type": "code",
   "execution_count": 5,
   "id": "9c081d84",
   "metadata": {
    "ExecuteTime": {
     "end_time": "2023-06-11T13:40:13.325247Z",
     "start_time": "2023-06-11T13:40:13.314083Z"
    }
   },
   "outputs": [
    {
     "data": {
      "text/html": [
       "<div>\n",
       "<style scoped>\n",
       "    .dataframe tbody tr th:only-of-type {\n",
       "        vertical-align: middle;\n",
       "    }\n",
       "\n",
       "    .dataframe tbody tr th {\n",
       "        vertical-align: top;\n",
       "    }\n",
       "\n",
       "    .dataframe thead th {\n",
       "        text-align: right;\n",
       "    }\n",
       "</style>\n",
       "<table border=\"1\" class=\"dataframe\">\n",
       "  <thead>\n",
       "    <tr style=\"text-align: right;\">\n",
       "      <th></th>\n",
       "      <th>IAQI</th>\n",
       "      <th>COUNT</th>\n",
       "      <th>RATIO</th>\n",
       "      <th>PERCENTAGE</th>\n",
       "    </tr>\n",
       "  </thead>\n",
       "  <tbody>\n",
       "    <tr>\n",
       "      <th>0</th>\n",
       "      <td>0</td>\n",
       "      <td>14</td>\n",
       "      <td>0.000720</td>\n",
       "      <td>0.07%</td>\n",
       "    </tr>\n",
       "    <tr>\n",
       "      <th>3</th>\n",
       "      <td>150</td>\n",
       "      <td>89</td>\n",
       "      <td>0.004580</td>\n",
       "      <td>0.46%</td>\n",
       "    </tr>\n",
       "    <tr>\n",
       "      <th>2</th>\n",
       "      <td>100</td>\n",
       "      <td>6223</td>\n",
       "      <td>0.320245</td>\n",
       "      <td>32.02%</td>\n",
       "    </tr>\n",
       "    <tr>\n",
       "      <th>1</th>\n",
       "      <td>50</td>\n",
       "      <td>13106</td>\n",
       "      <td>0.674455</td>\n",
       "      <td>67.45%</td>\n",
       "    </tr>\n",
       "  </tbody>\n",
       "</table>\n",
       "</div>"
      ],
      "text/plain": [
       "   IAQI  COUNT     RATIO PERCENTAGE\n",
       "0     0     14  0.000720      0.07%\n",
       "3   150     89  0.004580      0.46%\n",
       "2   100   6223  0.320245     32.02%\n",
       "1    50  13106  0.674455     67.45%"
      ]
     },
     "execution_count": 5,
     "metadata": {},
     "output_type": "execute_result"
    }
   ],
   "source": [
    "df_filtered"
   ]
  },
  {
   "cell_type": "code",
   "execution_count": 9,
   "id": "e1d0d2fe",
   "metadata": {
    "ExecuteTime": {
     "end_time": "2023-06-11T13:45:23.963187Z",
     "start_time": "2023-06-11T13:45:23.945865Z"
    }
   },
   "outputs": [
    {
     "data": {
      "text/plain": [
       "[0.4, 0.3, 0.2, 0.1]"
      ]
     },
     "execution_count": 9,
     "metadata": {},
     "output_type": "execute_result"
    }
   ],
   "source": [
    "explode=list(\n",
    "    map(\n",
    "        lambda x:x/10,\n",
    "        list(range(df_filtered.shape[0],0,-1))\n",
    "    )\n",
    ")\n",
    "explode"
   ]
  },
  {
   "cell_type": "code",
   "execution_count": 11,
   "id": "5bdb1b06",
   "metadata": {
    "ExecuteTime": {
     "end_time": "2023-06-11T13:45:35.666088Z",
     "start_time": "2023-06-11T13:45:35.531472Z"
    }
   },
   "outputs": [
    {
     "data": {
      "image/png": "[encoded data removed]",
      "text/plain": [
       "<Figure size 640x480 with 1 Axes>"
      ]
     },
     "metadata": {},
     "output_type": "display_data"
    }
   ],
   "source": [
    "plt.pie(\n",
    "    df_filtered['RATIO'],\n",
    "    labels=df_filtered[\"PERCENTAGE\"],\n",
    "    startangle=90,\n",
    "    counterclock=False,\n",
    "    explode=explode,\n",
    "    colors=['#FF9671','#FF6F91','#D65DB1','#845EC2']\n",
    ")\n",
    "\n",
    "# 在图例中显示标签\n",
    "plt.legend(\n",
    "    labels=df_filtered[\"IAQI\"].map('IAQI:{}'.format),\n",
    "    loc=\"center left\",\n",
    "    bbox_to_anchor=(1, 0.5)\n",
    ")\n",
    "plt.title('PM10浓度在各IAQI区间的分布(按时间段)',x=0.65,y=-0.05)\n",
    "plt.show()"
   ]
  },
  {
   "cell_type": "code",
   "execution_count": null,
   "id": "ccda13d2",
   "metadata": {},
   "outputs": [],
   "source": []
  }
 ],
 "metadata": {
  "kernelspec": {
   "display_name": "Python 3 (ipykernel)",
   "language": "python",
   "name": "python3"
  },
  "language_info": {
   "codemirror_mode": {
    "name": "ipython",
    "version": 3
   },
   "file_extension": ".py",
   "mimetype": "text/x-python",
   "name": "python",
   "nbconvert_exporter": "python",
   "pygments_lexer": "ipython3",
   "version": "3.10.10"
  }
 },
 "nbformat": 4,
 "nbformat_minor": 5
}
